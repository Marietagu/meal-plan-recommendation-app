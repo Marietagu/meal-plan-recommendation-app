{
 "cells": [
  {
   "cell_type": "markdown",
   "source": [
    "# Meal Plan Recommendation\n",
    "Meal plan recommendation system that uses content-based filtering to recommend meals based on dietary restrictions and preferences.This system aims to promote healthier eating habits by offering personalized meal options that adhere to user-specified dietary needs.\n",
    "The solution will be used in a website application.\n",
    "This application intends to build an unsupervised learning model from unlabelled data. "
   ],
   "metadata": {
    "collapsed": false
   },
   "id": "d7c8c6872178905a"
  },
  {
   "cell_type": "markdown",
   "source": [
    "# Reading the data"
   ],
   "metadata": {
    "collapsed": false
   },
   "id": "c7cc734295a4cbf1"
  },
  {
   "cell_type": "code",
   "execution_count": 1,
   "id": "initial_id",
   "metadata": {
    "collapsed": true,
    "ExecuteTime": {
     "end_time": "2024-05-19T16:09:37.574681Z",
     "start_time": "2024-05-19T16:09:36.821272Z"
    }
   },
   "outputs": [],
   "source": [
    "import pandas as pd\n",
    "import matplotlib.pyplot as plt\n"
   ]
  },
  {
   "cell_type": "code",
   "outputs": [
    {
     "data": {
      "text/plain": "   RecipeId                               Name  AuthorId      AuthorName  \\\n0        38  Low-Fat Berry Blue Frozen Dessert      1533          Dancer   \n1        39                            Biryani      1567        elly9812   \n2        40                      Best Lemonade      1566  Stephen Little   \n3        41     Carina's Tofu-Vegetable Kebabs      1586         Cyclopz   \n4        42                       Cabbage Soup      1538       Duckie067   \n\n  CookTime PrepTime TotalTime         DatePublished  \\\n0    PT24H    PT45M  PT24H45M  1999-08-09T21:46:00Z   \n1    PT25M     PT4H   PT4H25M  1999-08-29T13:12:00Z   \n2     PT5M    PT30M     PT35M  1999-09-05T19:52:00Z   \n3    PT20M    PT24H  PT24H20M  1999-09-03T14:54:00Z   \n4    PT30M    PT20M     PT50M  1999-09-19T06:19:00Z   \n\n                                         Description  \\\n0  Make and share this Low-Fat Berry Blue Frozen ...   \n1  Make and share this Biryani recipe from Food.com.   \n2  This is from one of my  first Good House Keepi...   \n3  This dish is best prepared a day in advance to...   \n4  Make and share this Cabbage Soup recipe from F...   \n\n                                              Images  ... SaturatedFatContent  \\\n0  c(\"https://img.sndimg.com/food/image/upload/w_...  ...                 1.3   \n1  c(\"https://img.sndimg.com/food/image/upload/w_...  ...                16.6   \n2  c(\"https://img.sndimg.com/food/image/upload/w_...  ...                 0.0   \n3  c(\"https://img.sndimg.com/food/image/upload/w_...  ...                 3.8   \n4  \"https://img.sndimg.com/food/image/upload/w_55...  ...                 0.1   \n\n  CholesterolContent SodiumContent CarbohydrateContent  FiberContent  \\\n0                8.0          29.8                37.1           3.6   \n1              372.8         368.4                84.4           9.0   \n2                0.0           1.8                81.5           0.4   \n3                0.0        1558.6                64.2          17.3   \n4                0.0         959.3                25.1           4.8   \n\n   SugarContent  ProteinContent  RecipeServings  RecipeYield  \\\n0          30.2             3.2             4.0          NaN   \n1          20.4            63.4             6.0          NaN   \n2          77.2             0.3             4.0          NaN   \n3          32.1            29.3             2.0     4 kebabs   \n4          17.7             4.3             4.0          NaN   \n\n                                  RecipeInstructions  \n0  c(\"Toss 2 cups berries with sugar.\", \"Let stan...  \n1  c(\"Soak saffron in warm milk for 5 minutes and...  \n2  c(\"Into a 1 quart Jar with tight fitting lid, ...  \n3  c(\"Drain the tofu, carefully squeezing out exc...  \n4  c(\"Mix everything together and bring to a boil...  \n\n[5 rows x 28 columns]",
      "text/html": "<div>\n<style scoped>\n    .dataframe tbody tr th:only-of-type {\n        vertical-align: middle;\n    }\n\n    .dataframe tbody tr th {\n        vertical-align: top;\n    }\n\n    .dataframe thead th {\n        text-align: right;\n    }\n</style>\n<table border=\"1\" class=\"dataframe\">\n  <thead>\n    <tr style=\"text-align: right;\">\n      <th></th>\n      <th>RecipeId</th>\n      <th>Name</th>\n      <th>AuthorId</th>\n      <th>AuthorName</th>\n      <th>CookTime</th>\n      <th>PrepTime</th>\n      <th>TotalTime</th>\n      <th>DatePublished</th>\n      <th>Description</th>\n      <th>Images</th>\n      <th>...</th>\n      <th>SaturatedFatContent</th>\n      <th>CholesterolContent</th>\n      <th>SodiumContent</th>\n      <th>CarbohydrateContent</th>\n      <th>FiberContent</th>\n      <th>SugarContent</th>\n      <th>ProteinContent</th>\n      <th>RecipeServings</th>\n      <th>RecipeYield</th>\n      <th>RecipeInstructions</th>\n    </tr>\n  </thead>\n  <tbody>\n    <tr>\n      <th>0</th>\n      <td>38</td>\n      <td>Low-Fat Berry Blue Frozen Dessert</td>\n      <td>1533</td>\n      <td>Dancer</td>\n      <td>PT24H</td>\n      <td>PT45M</td>\n      <td>PT24H45M</td>\n      <td>1999-08-09T21:46:00Z</td>\n      <td>Make and share this Low-Fat Berry Blue Frozen ...</td>\n      <td>c(\"https://img.sndimg.com/food/image/upload/w_...</td>\n      <td>...</td>\n      <td>1.3</td>\n      <td>8.0</td>\n      <td>29.8</td>\n      <td>37.1</td>\n      <td>3.6</td>\n      <td>30.2</td>\n      <td>3.2</td>\n      <td>4.0</td>\n      <td>NaN</td>\n      <td>c(\"Toss 2 cups berries with sugar.\", \"Let stan...</td>\n    </tr>\n    <tr>\n      <th>1</th>\n      <td>39</td>\n      <td>Biryani</td>\n      <td>1567</td>\n      <td>elly9812</td>\n      <td>PT25M</td>\n      <td>PT4H</td>\n      <td>PT4H25M</td>\n      <td>1999-08-29T13:12:00Z</td>\n      <td>Make and share this Biryani recipe from Food.com.</td>\n      <td>c(\"https://img.sndimg.com/food/image/upload/w_...</td>\n      <td>...</td>\n      <td>16.6</td>\n      <td>372.8</td>\n      <td>368.4</td>\n      <td>84.4</td>\n      <td>9.0</td>\n      <td>20.4</td>\n      <td>63.4</td>\n      <td>6.0</td>\n      <td>NaN</td>\n      <td>c(\"Soak saffron in warm milk for 5 minutes and...</td>\n    </tr>\n    <tr>\n      <th>2</th>\n      <td>40</td>\n      <td>Best Lemonade</td>\n      <td>1566</td>\n      <td>Stephen Little</td>\n      <td>PT5M</td>\n      <td>PT30M</td>\n      <td>PT35M</td>\n      <td>1999-09-05T19:52:00Z</td>\n      <td>This is from one of my  first Good House Keepi...</td>\n      <td>c(\"https://img.sndimg.com/food/image/upload/w_...</td>\n      <td>...</td>\n      <td>0.0</td>\n      <td>0.0</td>\n      <td>1.8</td>\n      <td>81.5</td>\n      <td>0.4</td>\n      <td>77.2</td>\n      <td>0.3</td>\n      <td>4.0</td>\n      <td>NaN</td>\n      <td>c(\"Into a 1 quart Jar with tight fitting lid, ...</td>\n    </tr>\n    <tr>\n      <th>3</th>\n      <td>41</td>\n      <td>Carina's Tofu-Vegetable Kebabs</td>\n      <td>1586</td>\n      <td>Cyclopz</td>\n      <td>PT20M</td>\n      <td>PT24H</td>\n      <td>PT24H20M</td>\n      <td>1999-09-03T14:54:00Z</td>\n      <td>This dish is best prepared a day in advance to...</td>\n      <td>c(\"https://img.sndimg.com/food/image/upload/w_...</td>\n      <td>...</td>\n      <td>3.8</td>\n      <td>0.0</td>\n      <td>1558.6</td>\n      <td>64.2</td>\n      <td>17.3</td>\n      <td>32.1</td>\n      <td>29.3</td>\n      <td>2.0</td>\n      <td>4 kebabs</td>\n      <td>c(\"Drain the tofu, carefully squeezing out exc...</td>\n    </tr>\n    <tr>\n      <th>4</th>\n      <td>42</td>\n      <td>Cabbage Soup</td>\n      <td>1538</td>\n      <td>Duckie067</td>\n      <td>PT30M</td>\n      <td>PT20M</td>\n      <td>PT50M</td>\n      <td>1999-09-19T06:19:00Z</td>\n      <td>Make and share this Cabbage Soup recipe from F...</td>\n      <td>\"https://img.sndimg.com/food/image/upload/w_55...</td>\n      <td>...</td>\n      <td>0.1</td>\n      <td>0.0</td>\n      <td>959.3</td>\n      <td>25.1</td>\n      <td>4.8</td>\n      <td>17.7</td>\n      <td>4.3</td>\n      <td>4.0</td>\n      <td>NaN</td>\n      <td>c(\"Mix everything together and bring to a boil...</td>\n    </tr>\n  </tbody>\n</table>\n<p>5 rows × 28 columns</p>\n</div>"
     },
     "execution_count": 6,
     "metadata": {},
     "output_type": "execute_result"
    }
   ],
   "source": [
    "data=pd.read_csv('Data/recipes.csv')\n",
    "data.head()"
   ],
   "metadata": {
    "collapsed": false,
    "ExecuteTime": {
     "end_time": "2024-05-19T16:11:14.613591Z",
     "start_time": "2024-05-19T16:11:06.843788Z"
    }
   },
   "id": "579b1ae1deeab9eb",
   "execution_count": 6
  },
  {
   "cell_type": "code",
   "outputs": [
    {
     "name": "stdout",
     "output_type": "stream",
     "text": [
      "<class 'pandas.core.frame.DataFrame'>\n",
      "RangeIndex: 522517 entries, 0 to 522516\n",
      "Data columns (total 28 columns):\n",
      " #   Column                      Non-Null Count   Dtype  \n",
      "---  ------                      --------------   -----  \n",
      " 0   RecipeId                    522517 non-null  int64  \n",
      " 1   Name                        522517 non-null  object \n",
      " 2   AuthorId                    522517 non-null  int64  \n",
      " 3   AuthorName                  522517 non-null  object \n",
      " 4   CookTime                    439972 non-null  object \n",
      " 5   PrepTime                    522517 non-null  object \n",
      " 6   TotalTime                   522517 non-null  object \n",
      " 7   DatePublished               522517 non-null  object \n",
      " 8   Description                 522512 non-null  object \n",
      " 9   Images                      522516 non-null  object \n",
      " 10  RecipeCategory              521766 non-null  object \n",
      " 11  Keywords                    505280 non-null  object \n",
      " 12  RecipeIngredientQuantities  522514 non-null  object \n",
      " 13  RecipeIngredientParts       522517 non-null  object \n",
      " 14  AggregatedRating            269294 non-null  float64\n",
      " 15  ReviewCount                 275028 non-null  float64\n",
      " 16  Calories                    522517 non-null  float64\n",
      " 17  FatContent                  522517 non-null  float64\n",
      " 18  SaturatedFatContent         522517 non-null  float64\n",
      " 19  CholesterolContent          522517 non-null  float64\n",
      " 20  SodiumContent               522517 non-null  float64\n",
      " 21  CarbohydrateContent         522517 non-null  float64\n",
      " 22  FiberContent                522517 non-null  float64\n",
      " 23  SugarContent                522517 non-null  float64\n",
      " 24  ProteinContent              522517 non-null  float64\n",
      " 25  RecipeServings              339606 non-null  float64\n",
      " 26  RecipeYield                 174446 non-null  object \n",
      " 27  RecipeInstructions          522517 non-null  object \n",
      "dtypes: float64(12), int64(2), object(14)\n",
      "memory usage: 111.6+ MB\n"
     ]
    }
   ],
   "source": [
    "data.info()\n"
   ],
   "metadata": {
    "collapsed": false,
    "ExecuteTime": {
     "end_time": "2024-05-19T16:11:34.664292Z",
     "start_time": "2024-05-19T16:11:33.765777Z"
    }
   },
   "id": "2c1b7d7ff679fc1f",
   "execution_count": 7
  },
  {
   "cell_type": "code",
   "outputs": [
    {
     "data": {
      "text/plain": "<Figure size 1000x800 with 1 Axes>",
      "image/png": "[encoded data removed]"
     },
     "metadata": {},
     "output_type": "display_data"
    }
   ],
   "source": [
    "fig, ax = plt.subplots(figsize=(10, 8))\n",
    "plt.title('Distribution of Calories')\n",
    "plt.ylabel('Frequency')\n",
    "plt.xlabel('Bins Center')\n",
    "ax.hist(data.Calories.to_numpy(),bins=[0,100,200,300,400,500,600,700,800,900,1000,1000,2000,3000,5000],linewidth=0.5)\n",
    "plt.show()"
   ],
   "metadata": {
    "collapsed": false,
    "ExecuteTime": {
     "end_time": "2024-05-19T16:15:53.351756Z",
     "start_time": "2024-05-19T16:15:53.059567Z"
    }
   },
   "id": "5c23937f76ec3864",
   "execution_count": 8
  },
  {
   "cell_type": "code",
   "outputs": [
    {
     "data": {
      "text/plain": "<Figure size 640x480 with 1 Axes>",
      "image/png": "[encoded data removed]"
     },
     "metadata": {},
     "output_type": "display_data"
    }
   ],
   "source": [
    "import pylab \n",
    "import scipy.stats as stats\n",
    "stats.probplot(data.Calories.to_numpy(), dist=\"norm\", plot=pylab)\n",
    "pylab.show()"
   ],
   "metadata": {
    "collapsed": false,
    "ExecuteTime": {
     "end_time": "2024-05-19T16:28:47.214520Z",
     "start_time": "2024-05-19T16:28:45.058695Z"
    }
   },
   "id": "55783534c9ec0cbe",
   "execution_count": 9
  },
  {
   "cell_type": "markdown",
   "source": [
    "The plot shows a significant deviation from the straight line, indicating that the Calories data does not follow a normal distribution.The plot indicates positive skewness, as the data points curve upwards away from the line at higher quantiles. This suggests that there are a few data points with much higher calorie values than the rest."
   ],
   "metadata": {
    "collapsed": false
   },
   "id": "5dd0bb5070d3a5cd"
  },
  {
   "cell_type": "markdown",
   "source": [
    "# Preparing Data\n",
    "Selecting the columns I am interested in order to build a model that takes into account the recipes nutritional characteristics."
   ],
   "metadata": {
    "collapsed": false
   },
   "id": "ed6c06ed5a33a6e6"
  },
  {
   "cell_type": "code",
   "outputs": [],
   "source": [
    "dataset=data.copy()\n",
    "columns=['RecipeId','Name','CookTime','PrepTime','TotalTime','RecipeIngredientParts','Calories','FatContent','SaturatedFatContent','CholesterolContent','SodiumContent','CarbohydrateContent','FiberContent','SugarContent','ProteinContent','RecipeInstructions']\n",
    "dataset=dataset[columns]"
   ],
   "metadata": {
    "collapsed": false,
    "ExecuteTime": {
     "end_time": "2024-05-19T16:32:31.668592Z",
     "start_time": "2024-05-19T16:32:31.450985Z"
    }
   },
   "id": "2ef94b8724bcecab",
   "execution_count": 10
  },
  {
   "cell_type": "markdown",
   "source": [
    "Setting max values to the parameters the user will be able to set for the recommendation of meals"
   ],
   "metadata": {
    "collapsed": false
   },
   "id": "8aa3a61d52e03e3c"
  },
  {
   "cell_type": "code",
   "outputs": [],
   "source": [
    "max_Calories=2000\n",
    "max_daily_fat=100\n",
    "max_daily_Saturatedfat=13\n",
    "max_daily_Cholesterol=300\n",
    "max_daily_Sodium=2300\n",
    "max_daily_Carbohydrate=325\n",
    "max_daily_Fiber=40\n",
    "max_daily_Sugar=40\n",
    "max_daily_Protein=200\n",
    "max_list=[max_Calories,max_daily_fat,max_daily_Saturatedfat,max_daily_Cholesterol,max_daily_Sodium,max_daily_Carbohydrate,max_daily_Fiber,max_daily_Sugar,max_daily_Protein]"
   ],
   "metadata": {
    "collapsed": false,
    "ExecuteTime": {
     "end_time": "2024-05-19T16:33:57.827858Z",
     "start_time": "2024-05-19T16:33:57.824564Z"
    }
   },
   "id": "a072fc7c8d6bf1c3",
   "execution_count": 11
  },
  {
   "cell_type": "code",
   "outputs": [],
   "source": [
    "extracted_data=dataset.copy()\n",
    "for column,maximum in zip(extracted_data.columns[6:15],max_list):\n",
    "    extracted_data=extracted_data[extracted_data[column]<maximum]"
   ],
   "metadata": {
    "collapsed": false,
    "ExecuteTime": {
     "end_time": "2024-05-19T16:34:01.029187Z",
     "start_time": "2024-05-19T16:34:00.441992Z"
    }
   },
   "id": "902c8d0137d9f900",
   "execution_count": 12
  },
  {
   "cell_type": "code",
   "outputs": [
    {
     "name": "stdout",
     "output_type": "stream",
     "text": [
      "<class 'pandas.core.frame.DataFrame'>\n",
      "Int64Index: 375703 entries, 0 to 522515\n",
      "Data columns (total 16 columns):\n",
      " #   Column                 Non-Null Count   Dtype  \n",
      "---  ------                 --------------   -----  \n",
      " 0   RecipeId               375703 non-null  int64  \n",
      " 1   Name                   375703 non-null  object \n",
      " 2   CookTime               313207 non-null  object \n",
      " 3   PrepTime               375703 non-null  object \n",
      " 4   TotalTime              375703 non-null  object \n",
      " 5   RecipeIngredientParts  375703 non-null  object \n",
      " 6   Calories               375703 non-null  float64\n",
      " 7   FatContent             375703 non-null  float64\n",
      " 8   SaturatedFatContent    375703 non-null  float64\n",
      " 9   CholesterolContent     375703 non-null  float64\n",
      " 10  SodiumContent          375703 non-null  float64\n",
      " 11  CarbohydrateContent    375703 non-null  float64\n",
      " 12  FiberContent           375703 non-null  float64\n",
      " 13  SugarContent           375703 non-null  float64\n",
      " 14  ProteinContent         375703 non-null  float64\n",
      " 15  RecipeInstructions     375703 non-null  object \n",
      "dtypes: float64(9), int64(1), object(6)\n",
      "memory usage: 48.7+ MB\n"
     ]
    }
   ],
   "source": [
    "extracted_data.info()"
   ],
   "metadata": {
    "collapsed": false,
    "ExecuteTime": {
     "end_time": "2024-05-19T16:36:55.118600Z",
     "start_time": "2024-05-19T16:36:55.099078Z"
    }
   },
   "id": "41f0030d202f90dd",
   "execution_count": 13
  },
  {
   "cell_type": "markdown",
   "source": [
    "## Exploring Correlation\n",
    "Understanding the relationships between different nutritional components can help in designing balanced meal plans. For example, if calories are highly correlated with fat, meals with higher fat content are likely to have higher calories."
   ],
   "metadata": {
    "collapsed": false
   },
   "id": "d75849f1c8e470c6"
  },
  {
   "cell_type": "code",
   "outputs": [
    {
     "data": {
      "text/plain": "                     Calories  FatContent  SaturatedFatContent  \\\nCalories             1.000000    0.767356             0.603317   \nFatContent           0.767356    1.000000             0.767357   \nSaturatedFatContent  0.603317    0.767357             1.000000   \nCholesterolContent   0.478934    0.440515             0.512186   \nSodiumContent        0.501082    0.381944             0.319671   \nCarbohydrateContent  0.711640    0.223549             0.176623   \nFiberContent         0.458711    0.192142             0.044003   \nSugarContent         0.180895    0.042603             0.090721   \nProteinContent       0.689447    0.468088             0.388618   \n\n                     CholesterolContent  SodiumContent  CarbohydrateContent  \\\nCalories                       0.478934       0.501082             0.711640   \nFatContent                     0.440515       0.381944             0.223549   \nSaturatedFatContent            0.512186       0.319671             0.176623   \nCholesterolContent             1.000000       0.335843             0.066104   \nSodiumContent                  0.335843       1.000000             0.294636   \nCarbohydrateContent            0.066104       0.294636             1.000000   \nFiberContent                  -0.047346       0.260479             0.580535   \nSugarContent                  -0.036112      -0.055518             0.390120   \nProteinContent                 0.675302       0.500457             0.255447   \n\n                     FiberContent  SugarContent  ProteinContent  \nCalories                 0.458711      0.180895        0.689447  \nFatContent               0.192142      0.042603        0.468088  \nSaturatedFatContent      0.044003      0.090721        0.388618  \nCholesterolContent      -0.047346     -0.036112        0.675302  \nSodiumContent            0.260479     -0.055518        0.500457  \nCarbohydrateContent      0.580535      0.390120        0.255447  \nFiberContent             1.000000      0.068758        0.273488  \nSugarContent             0.068758      1.000000       -0.120441  \nProteinContent           0.273488     -0.120441        1.000000  ",
      "text/html": "<div>\n<style scoped>\n    .dataframe tbody tr th:only-of-type {\n        vertical-align: middle;\n    }\n\n    .dataframe tbody tr th {\n        vertical-align: top;\n    }\n\n    .dataframe thead th {\n        text-align: right;\n    }\n</style>\n<table border=\"1\" class=\"dataframe\">\n  <thead>\n    <tr style=\"text-align: right;\">\n      <th></th>\n      <th>Calories</th>\n      <th>FatContent</th>\n      <th>SaturatedFatContent</th>\n      <th>CholesterolContent</th>\n      <th>SodiumContent</th>\n      <th>CarbohydrateContent</th>\n      <th>FiberContent</th>\n      <th>SugarContent</th>\n      <th>ProteinContent</th>\n    </tr>\n  </thead>\n  <tbody>\n    <tr>\n      <th>Calories</th>\n      <td>1.000000</td>\n      <td>0.767356</td>\n      <td>0.603317</td>\n      <td>0.478934</td>\n      <td>0.501082</td>\n      <td>0.711640</td>\n      <td>0.458711</td>\n      <td>0.180895</td>\n      <td>0.689447</td>\n    </tr>\n    <tr>\n      <th>FatContent</th>\n      <td>0.767356</td>\n      <td>1.000000</td>\n      <td>0.767357</td>\n      <td>0.440515</td>\n      <td>0.381944</td>\n      <td>0.223549</td>\n      <td>0.192142</td>\n      <td>0.042603</td>\n      <td>0.468088</td>\n    </tr>\n    <tr>\n      <th>SaturatedFatContent</th>\n      <td>0.603317</td>\n      <td>0.767357</td>\n      <td>1.000000</td>\n      <td>0.512186</td>\n      <td>0.319671</td>\n      <td>0.176623</td>\n      <td>0.044003</td>\n      <td>0.090721</td>\n      <td>0.388618</td>\n    </tr>\n    <tr>\n      <th>CholesterolContent</th>\n      <td>0.478934</td>\n      <td>0.440515</td>\n      <td>0.512186</td>\n      <td>1.000000</td>\n      <td>0.335843</td>\n      <td>0.066104</td>\n      <td>-0.047346</td>\n      <td>-0.036112</td>\n      <td>0.675302</td>\n    </tr>\n    <tr>\n      <th>SodiumContent</th>\n      <td>0.501082</td>\n      <td>0.381944</td>\n      <td>0.319671</td>\n      <td>0.335843</td>\n      <td>1.000000</td>\n      <td>0.294636</td>\n      <td>0.260479</td>\n      <td>-0.055518</td>\n      <td>0.500457</td>\n    </tr>\n    <tr>\n      <th>CarbohydrateContent</th>\n      <td>0.711640</td>\n      <td>0.223549</td>\n      <td>0.176623</td>\n      <td>0.066104</td>\n      <td>0.294636</td>\n      <td>1.000000</td>\n      <td>0.580535</td>\n      <td>0.390120</td>\n      <td>0.255447</td>\n    </tr>\n    <tr>\n      <th>FiberContent</th>\n      <td>0.458711</td>\n      <td>0.192142</td>\n      <td>0.044003</td>\n      <td>-0.047346</td>\n      <td>0.260479</td>\n      <td>0.580535</td>\n      <td>1.000000</td>\n      <td>0.068758</td>\n      <td>0.273488</td>\n    </tr>\n    <tr>\n      <th>SugarContent</th>\n      <td>0.180895</td>\n      <td>0.042603</td>\n      <td>0.090721</td>\n      <td>-0.036112</td>\n      <td>-0.055518</td>\n      <td>0.390120</td>\n      <td>0.068758</td>\n      <td>1.000000</td>\n      <td>-0.120441</td>\n    </tr>\n    <tr>\n      <th>ProteinContent</th>\n      <td>0.689447</td>\n      <td>0.468088</td>\n      <td>0.388618</td>\n      <td>0.675302</td>\n      <td>0.500457</td>\n      <td>0.255447</td>\n      <td>0.273488</td>\n      <td>-0.120441</td>\n      <td>1.000000</td>\n    </tr>\n  </tbody>\n</table>\n</div>"
     },
     "execution_count": 14,
     "metadata": {},
     "output_type": "execute_result"
    }
   ],
   "source": [
    "extracted_data.iloc[:,6:15].corr()"
   ],
   "metadata": {
    "collapsed": false,
    "ExecuteTime": {
     "end_time": "2024-05-19T16:58:46.039512Z",
     "start_time": "2024-05-19T16:58:45.953100Z"
    }
   },
   "id": "c8fdbc3cf0064579",
   "execution_count": 14
  },
  {
   "cell_type": "markdown",
   "source": [
    "# Preprocessing "
   ],
   "metadata": {
    "collapsed": false
   },
   "id": "81f9c1011ae793f2"
  },
  {
   "cell_type": "code",
   "outputs": [],
   "source": [
    "from sklearn.preprocessing import StandardScaler\n",
    "scaler=StandardScaler()\n",
    "prep_data=scaler.fit_transform(extracted_data.iloc[:,6:15].to_numpy())"
   ],
   "metadata": {
    "collapsed": false,
    "ExecuteTime": {
     "end_time": "2024-05-19T17:04:19.935980Z",
     "start_time": "2024-05-19T17:04:19.565566Z"
    }
   },
   "id": "54407ff1b00553f4",
   "execution_count": 15
  },
  {
   "cell_type": "code",
   "outputs": [
    {
     "data": {
      "text/plain": "array([[-0.55093359, -0.91281917, -0.77924852, ...,  0.15672078,\n         2.35502102, -0.68338127],\n       [ 1.47428542,  1.13139595, -0.0647135 , ...,  3.91055068,\n         2.56324444,  1.25158691],\n       [-0.92414618, -1.11248669, -1.12222533, ...,  0.4855234 ,\n         0.98513013, -0.60183088],\n       ...,\n       [ 0.49162165,  0.73206091,  1.85024037, ..., -0.61048534,\n         1.76322815, -0.56476253],\n       [ 0.25704672,  0.03797856,  1.02137974, ..., -0.61048534,\n         1.54404561, -0.63148557],\n       [-1.40937801, -1.09347074, -1.12222533, ..., -0.82968708,\n        -0.94367625, -0.74269064]])"
     },
     "execution_count": 16,
     "metadata": {},
     "output_type": "execute_result"
    }
   ],
   "source": [
    "prep_data"
   ],
   "metadata": {
    "collapsed": false,
    "ExecuteTime": {
     "end_time": "2024-05-19T17:04:39.482863Z",
     "start_time": "2024-05-19T17:04:39.469597Z"
    }
   },
   "id": "4656867a91d9156b",
   "execution_count": 16
  },
  {
   "cell_type": "markdown",
   "source": [
    "# Training the Model"
   ],
   "metadata": {
    "collapsed": false
   },
   "id": "7b2407f76fafe8e8"
  },
  {
   "cell_type": "code",
   "outputs": [
    {
     "data": {
      "text/plain": "NearestNeighbors(algorithm='brute', metric='cosine')",
      "text/html": "<style>#sk-container-id-1 {color: black;background-color: white;}#sk-container-id-1 pre{padding: 0;}#sk-container-id-1 div.sk-toggleable {background-color: white;}#sk-container-id-1 label.sk-toggleable__label {cursor: pointer;display: block;width: 100%;margin-bottom: 0;padding: 0.3em;box-sizing: border-box;text-align: center;}#sk-container-id-1 label.sk-toggleable__label-arrow:before {content: \"▸\";float: left;margin-right: 0.25em;color: #696969;}#sk-container-id-1 label.sk-toggleable__label-arrow:hover:before {color: black;}#sk-container-id-1 div.sk-estimator:hover label.sk-toggleable__label-arrow:before {color: black;}#sk-container-id-1 div.sk-toggleable__content {max-height: 0;max-width: 0;overflow: hidden;text-align: left;background-color: #f0f8ff;}#sk-container-id-1 div.sk-toggleable__content pre {margin: 0.2em;color: black;border-radius: 0.25em;background-color: #f0f8ff;}#sk-container-id-1 input.sk-toggleable__control:checked~div.sk-toggleable__content {max-height: 200px;max-width: 100%;overflow: auto;}#sk-container-id-1 input.sk-toggleable__control:checked~label.sk-toggleable__label-arrow:before {content: \"▾\";}#sk-container-id-1 div.sk-estimator input.sk-toggleable__control:checked~label.sk-toggleable__label {background-color: #d4ebff;}#sk-container-id-1 div.sk-label input.sk-toggleable__control:checked~label.sk-toggleable__label {background-color: #d4ebff;}#sk-container-id-1 input.sk-hidden--visually {border: 0;clip: rect(1px 1px 1px 1px);clip: rect(1px, 1px, 1px, 1px);height: 1px;margin: -1px;overflow: hidden;padding: 0;position: absolute;width: 1px;}#sk-container-id-1 div.sk-estimator {font-family: monospace;background-color: #f0f8ff;border: 1px dotted black;border-radius: 0.25em;box-sizing: border-box;margin-bottom: 0.5em;}#sk-container-id-1 div.sk-estimator:hover {background-color: #d4ebff;}#sk-container-id-1 div.sk-parallel-item::after {content: \"\";width: 100%;border-bottom: 1px solid gray;flex-grow: 1;}#sk-container-id-1 div.sk-label:hover label.sk-toggleable__label {background-color: #d4ebff;}#sk-container-id-1 div.sk-serial::before {content: \"\";position: absolute;border-left: 1px solid gray;box-sizing: border-box;top: 0;bottom: 0;left: 50%;z-index: 0;}#sk-container-id-1 div.sk-serial {display: flex;flex-direction: column;align-items: center;background-color: white;padding-right: 0.2em;padding-left: 0.2em;position: relative;}#sk-container-id-1 div.sk-item {position: relative;z-index: 1;}#sk-container-id-1 div.sk-parallel {display: flex;align-items: stretch;justify-content: center;background-color: white;position: relative;}#sk-container-id-1 div.sk-item::before, #sk-container-id-1 div.sk-parallel-item::before {content: \"\";position: absolute;border-left: 1px solid gray;box-sizing: border-box;top: 0;bottom: 0;left: 50%;z-index: -1;}#sk-container-id-1 div.sk-parallel-item {display: flex;flex-direction: column;z-index: 1;position: relative;background-color: white;}#sk-container-id-1 div.sk-parallel-item:first-child::after {align-self: flex-end;width: 50%;}#sk-container-id-1 div.sk-parallel-item:last-child::after {align-self: flex-start;width: 50%;}#sk-container-id-1 div.sk-parallel-item:only-child::after {width: 0;}#sk-container-id-1 div.sk-dashed-wrapped {border: 1px dashed gray;margin: 0 0.4em 0.5em 0.4em;box-sizing: border-box;padding-bottom: 0.4em;background-color: white;}#sk-container-id-1 div.sk-label label {font-family: monospace;font-weight: bold;display: inline-block;line-height: 1.2em;}#sk-container-id-1 div.sk-label-container {text-align: center;}#sk-container-id-1 div.sk-container {/* jupyter's `normalize.less` sets `[hidden] { display: none; }` but bootstrap.min.css set `[hidden] { display: none !important; }` so we also need the `!important` here to be able to override the default hidden behavior on the sphinx rendered scikit-learn.org. See: https://github.com/scikit-learn/scikit-learn/issues/21755 */display: inline-block !important;position: relative;}#sk-container-id-1 div.sk-text-repr-fallback {display: none;}</style><div id=\"sk-container-id-1\" class=\"sk-top-container\"><div class=\"sk-text-repr-fallback\"><pre>NearestNeighbors(algorithm=&#x27;brute&#x27;, metric=&#x27;cosine&#x27;)</pre><b>In a Jupyter environment, please rerun this cell to show the HTML representation or trust the notebook. <br />On GitHub, the HTML representation is unable to render, please try loading this page with nbviewer.org.</b></div><div class=\"sk-container\" hidden><div class=\"sk-item\"><div class=\"sk-estimator sk-toggleable\"><input class=\"sk-toggleable__control sk-hidden--visually\" id=\"sk-estimator-id-1\" type=\"checkbox\" checked><label for=\"sk-estimator-id-1\" class=\"sk-toggleable__label sk-toggleable__label-arrow\">NearestNeighbors</label><div class=\"sk-toggleable__content\"><pre>NearestNeighbors(algorithm=&#x27;brute&#x27;, metric=&#x27;cosine&#x27;)</pre></div></div></div></div></div>"
     },
     "execution_count": 17,
     "metadata": {},
     "output_type": "execute_result"
    }
   ],
   "source": [
    "from sklearn.neighbors import NearestNeighbors\n",
    "neigh = NearestNeighbors(metric='cosine',algorithm='brute')\n",
    "neigh.fit(prep_data)"
   ],
   "metadata": {
    "collapsed": false,
    "ExecuteTime": {
     "end_time": "2024-05-19T17:09:14.550700Z",
     "start_time": "2024-05-19T17:09:13.805792Z"
    }
   },
   "id": "309a60b29596c609",
   "execution_count": 17
  },
  {
   "cell_type": "code",
   "outputs": [],
   "source": [
    "from sklearn.pipeline import Pipeline\n",
    "from sklearn.preprocessing import FunctionTransformer\n",
    "transformer = FunctionTransformer(neigh.kneighbors,kw_args={'return_distance':False})\n",
    "pipeline=Pipeline([('std_scaler',scaler),('NN',transformer)])"
   ],
   "metadata": {
    "collapsed": false,
    "ExecuteTime": {
     "end_time": "2024-05-19T17:10:07.319411Z",
     "start_time": "2024-05-19T17:10:07.302946Z"
    }
   },
   "id": "718b5e46f243e388",
   "execution_count": 18
  },
  {
   "cell_type": "code",
   "outputs": [
    {
     "data": {
      "text/plain": "array([     0, 333440, 349044, 109248,  19679])"
     },
     "execution_count": 19,
     "metadata": {},
     "output_type": "execute_result"
    }
   ],
   "source": [
    "pipeline.transform(extracted_data.iloc[0:1,6:15].to_numpy())[0]"
   ],
   "metadata": {
    "collapsed": false,
    "ExecuteTime": {
     "end_time": "2024-05-19T17:10:30.742955Z",
     "start_time": "2024-05-19T17:10:30.702102Z"
    }
   },
   "id": "c009b6b4a4b247b",
   "execution_count": 19
  },
  {
   "cell_type": "markdown",
   "source": [
    "# Testing the Model"
   ],
   "metadata": {
    "collapsed": false
   },
   "id": "6e451d7b09a0b961"
  },
  {
   "cell_type": "code",
   "outputs": [
    {
     "data": {
      "text/plain": "        RecipeId                                          Name CookTime  \\\n0             38             Low-Fat Berry Blue Frozen Dessert    PT24H   \n463750    480841                                   Mango Salsa     PT5M   \n485171    503065  Glazed Pineapple With Cinnamon Creme Fraiche    PT10M   \n158110    165636                             Lemon Float Punch   PT120H   \n28595      32172                            L & B's Concoction     PT5M   \n\n       PrepTime TotalTime                              RecipeIngredientParts  \\\n0         PT45M  PT24H45M  c(\"blueberries\", \"granulated sugar\", \"vanilla ...   \n463750    PT10M     PT15M  c(\"fresh mango\", \"tomatoes\", \"sweet onion\", \"f...   \n485171    PT10M     PT20M  c(\"lime\", \"honey\", \"ground cinnamon\", \"ground ...   \n158110     PT5M  PT120H5M  c(\"lemons\", \"sugar\", \"water\", \"ginger ale\", \"l...   \n28595      PT5M     PT10M  c(\"strawberry\", \"strawberry\", \"milk\", \"blueber...   \n\n        Calories  FatContent  SaturatedFatContent  CholesterolContent  \\\n0          170.9         2.5                  1.3                 8.0   \n463750     152.5         0.8                  0.2                 0.0   \n485171     172.5         2.2                  1.2                 5.0   \n158110     158.4         1.7                  0.9                 0.4   \n28595      167.3         2.0                  1.0                 5.7   \n\n        SodiumContent  CarbohydrateContent  FiberContent  SugarContent  \\\n0                29.8                 37.1           3.6          30.2   \n463750            6.6                 37.9           3.8          34.0   \n485171           19.8                 41.5           3.8          32.4   \n158110           38.6                 40.1           4.0          31.1   \n28595            26.2                 38.4           3.0          29.9   \n\n        ProteinContent                                 RecipeInstructions  \n0                  3.2  c(\"Toss 2 cups berries with sugar.\", \"Let stan...  \n463750             2.2  c(\"In a medium-sized bowl, whisk together vine...  \n485171             1.4  c(\"Mix the lime juice and half the lime zest w...  \n158110             1.9  c(\"Combine lemon juice and sugar; stir to diss...  \n28595              3.1  c(\"Blend the frozen strawberries, ice cubes, y...  ",
      "text/html": "<div>\n<style scoped>\n    .dataframe tbody tr th:only-of-type {\n        vertical-align: middle;\n    }\n\n    .dataframe tbody tr th {\n        vertical-align: top;\n    }\n\n    .dataframe thead th {\n        text-align: right;\n    }\n</style>\n<table border=\"1\" class=\"dataframe\">\n  <thead>\n    <tr style=\"text-align: right;\">\n      <th></th>\n      <th>RecipeId</th>\n      <th>Name</th>\n      <th>CookTime</th>\n      <th>PrepTime</th>\n      <th>TotalTime</th>\n      <th>RecipeIngredientParts</th>\n      <th>Calories</th>\n      <th>FatContent</th>\n      <th>SaturatedFatContent</th>\n      <th>CholesterolContent</th>\n      <th>SodiumContent</th>\n      <th>CarbohydrateContent</th>\n      <th>FiberContent</th>\n      <th>SugarContent</th>\n      <th>ProteinContent</th>\n      <th>RecipeInstructions</th>\n    </tr>\n  </thead>\n  <tbody>\n    <tr>\n      <th>0</th>\n      <td>38</td>\n      <td>Low-Fat Berry Blue Frozen Dessert</td>\n      <td>PT24H</td>\n      <td>PT45M</td>\n      <td>PT24H45M</td>\n      <td>c(\"blueberries\", \"granulated sugar\", \"vanilla ...</td>\n      <td>170.9</td>\n      <td>2.5</td>\n      <td>1.3</td>\n      <td>8.0</td>\n      <td>29.8</td>\n      <td>37.1</td>\n      <td>3.6</td>\n      <td>30.2</td>\n      <td>3.2</td>\n      <td>c(\"Toss 2 cups berries with sugar.\", \"Let stan...</td>\n    </tr>\n    <tr>\n      <th>463750</th>\n      <td>480841</td>\n      <td>Mango Salsa</td>\n      <td>PT5M</td>\n      <td>PT10M</td>\n      <td>PT15M</td>\n      <td>c(\"fresh mango\", \"tomatoes\", \"sweet onion\", \"f...</td>\n      <td>152.5</td>\n      <td>0.8</td>\n      <td>0.2</td>\n      <td>0.0</td>\n      <td>6.6</td>\n      <td>37.9</td>\n      <td>3.8</td>\n      <td>34.0</td>\n      <td>2.2</td>\n      <td>c(\"In a medium-sized bowl, whisk together vine...</td>\n    </tr>\n    <tr>\n      <th>485171</th>\n      <td>503065</td>\n      <td>Glazed Pineapple With Cinnamon Creme Fraiche</td>\n      <td>PT10M</td>\n      <td>PT10M</td>\n      <td>PT20M</td>\n      <td>c(\"lime\", \"honey\", \"ground cinnamon\", \"ground ...</td>\n      <td>172.5</td>\n      <td>2.2</td>\n      <td>1.2</td>\n      <td>5.0</td>\n      <td>19.8</td>\n      <td>41.5</td>\n      <td>3.8</td>\n      <td>32.4</td>\n      <td>1.4</td>\n      <td>c(\"Mix the lime juice and half the lime zest w...</td>\n    </tr>\n    <tr>\n      <th>158110</th>\n      <td>165636</td>\n      <td>Lemon Float Punch</td>\n      <td>PT120H</td>\n      <td>PT5M</td>\n      <td>PT120H5M</td>\n      <td>c(\"lemons\", \"sugar\", \"water\", \"ginger ale\", \"l...</td>\n      <td>158.4</td>\n      <td>1.7</td>\n      <td>0.9</td>\n      <td>0.4</td>\n      <td>38.6</td>\n      <td>40.1</td>\n      <td>4.0</td>\n      <td>31.1</td>\n      <td>1.9</td>\n      <td>c(\"Combine lemon juice and sugar; stir to diss...</td>\n    </tr>\n    <tr>\n      <th>28595</th>\n      <td>32172</td>\n      <td>L &amp; B's Concoction</td>\n      <td>PT5M</td>\n      <td>PT5M</td>\n      <td>PT10M</td>\n      <td>c(\"strawberry\", \"strawberry\", \"milk\", \"blueber...</td>\n      <td>167.3</td>\n      <td>2.0</td>\n      <td>1.0</td>\n      <td>5.7</td>\n      <td>26.2</td>\n      <td>38.4</td>\n      <td>3.0</td>\n      <td>29.9</td>\n      <td>3.1</td>\n      <td>c(\"Blend the frozen strawberries, ice cubes, y...</td>\n    </tr>\n  </tbody>\n</table>\n</div>"
     },
     "execution_count": 24,
     "metadata": {},
     "output_type": "execute_result"
    }
   ],
   "source": [
    "extracted_data.iloc[pipeline.transform(extracted_data.iloc[0:1,6:15].to_numpy())[0]]"
   ],
   "metadata": {
    "collapsed": false,
    "ExecuteTime": {
     "end_time": "2024-05-19T17:12:33.661611Z",
     "start_time": "2024-05-19T17:12:33.618221Z"
    }
   },
   "id": "89d5f4a6e835711c",
   "execution_count": 24
  },
  {
   "cell_type": "code",
   "outputs": [
    {
     "data": {
      "text/plain": "        RecipeId                                        Name CookTime  \\\n3             41              Carina's Tofu-Vegetable Kebabs    PT20M   \n7             45  Buttermilk Pie With Gingersnap Crumb Crust    PT50M   \n12            50                           Biscotti Di Prato    PT50M   \n18            56                              Buttermilk Pie     PT1H   \n22            60                           Blueberry Dessert      NaN   \n...          ...                                         ...      ...   \n522484    541351      Spinach & Mushroom Quiche with Boursin     PT1H   \n522490    541357                     Chocolate Rum Snowballs     PT8M   \n522500    541367                       Thick Peanut Pancakes    PT10M   \n522510    541377             Slow-Cooker Classic Coffee Cake     PT3H   \n522512    541379              Meg's Fresh Ginger Gingerbread    PT35M   \n\n       PrepTime TotalTime                              RecipeIngredientParts  \\\n3         PT24H  PT24H20M  c(\"extra firm tofu\", \"eggplant\", \"zucchini\", \"...   \n7         PT30M   PT1H20M  c(\"sugar\", \"margarine\", \"egg\", \"flour\", \"salt\"...   \n12        PT20M   PT1H10M  c(\"flour\", \"sugar\", \"baking powder\", \"salt\", \"...   \n18        PT20M   PT1H20M  c(\"butter\", \"margarine\", \"sugar\", \"flour\", \"eg...   \n22        PT35M     PT35M  c(\"Bisquick baking mix\", \"sugar\", \"butter\", \"m...   \n...         ...       ...                                                ...   \n522484    PT20M   PT1H20M  c(\"butter\", \"onion\", \"sweet pepper\", \"carrots\"...   \n522490    PT15M     PT23M  c(\"rolled oats\", \"sweetened flaked coconut\", \"...   \n522500    PT45M     PT55M  c(\"plain flour\", \"baking powder\", \"baking soda...   \n522510    PT20M   PT3H20M  c(\"all-purpose flour\", \"brown sugar\", \"butter\"...   \n522512     PT1H   PT1H35M  c(\"fresh ginger\", \"unsalted butter\", \"dark bro...   \n\n        Calories  FatContent  SaturatedFatContent  CholesterolContent  \\\n3          536.1        24.0                  3.8                 0.0   \n7          228.0         7.1                  1.7                24.5   \n12          89.4         2.6                  0.3                16.6   \n18         395.9        19.1                  9.8               101.5   \n22         381.1        17.3                  8.8                62.1   \n...          ...         ...                  ...                 ...   \n522484     197.6        11.0                  4.0                82.2   \n522490     127.8         6.2                  4.1                14.9   \n522500     712.9        25.4                  8.6               121.4   \n522510     358.9        19.8                 10.5               103.1   \n522512     316.6        12.5                  7.6                54.4   \n\n        SodiumContent  CarbohydrateContent  FiberContent  SugarContent  \\\n3              1558.6                 64.2          17.3          32.1   \n7               281.8                 37.5           0.5          24.7   \n12               23.5                 14.5           0.8           7.3   \n18              269.8                 52.2           0.7          39.9   \n22              437.6                 54.5           1.6          36.9   \n...               ...                  ...           ...           ...   \n522484          283.3                 19.0           2.0           3.0   \n522490           57.9                 15.8           1.3           9.4   \n522500          503.9                100.3           6.0          20.2   \n522510          323.4                 41.5           0.8          24.8   \n522512          278.2                 48.5           0.8          22.8   \n\n        ProteinContent                                 RecipeInstructions  \n3                 29.3  c(\"Drain the tofu, carefully squeezing out exc...  \n7                  4.2  c(\"Preheat oven to 350°F.\", \"Make pie crust, u...  \n12                 2.3  c(\"EGG WASH 1 Egg, large 1 tsp Water In the bo...  \n18                 5.0  c(\"Preheat oven to 400°F.\", \"Beat the butter a...  \n22                 3.9  c(\"Heat oven to 400 degrees.\", \"Mix 2 cups bak...  \n...                ...                                                ...  \n522484             6.1  c(\"Bake pie crust(s) according to package inst...  \n522490             1.8  c(\"In a large mixing bowl, combine oats, 1 cup...  \n522500            23.2  c(\"Add rock sugar to milk.\", \"Steam milk at lo...  \n522510             4.8  c(\"Line bottom and sides of 5-quart oval slow ...  \n522512             3.9  c(\"Preheat oven to 350&deg;F Grease an 8x8 cak...  \n\n[83668 rows x 16 columns]",
      "text/html": "<div>\n<style scoped>\n    .dataframe tbody tr th:only-of-type {\n        vertical-align: middle;\n    }\n\n    .dataframe tbody tr th {\n        vertical-align: top;\n    }\n\n    .dataframe thead th {\n        text-align: right;\n    }\n</style>\n<table border=\"1\" class=\"dataframe\">\n  <thead>\n    <tr style=\"text-align: right;\">\n      <th></th>\n      <th>RecipeId</th>\n      <th>Name</th>\n      <th>CookTime</th>\n      <th>PrepTime</th>\n      <th>TotalTime</th>\n      <th>RecipeIngredientParts</th>\n      <th>Calories</th>\n      <th>FatContent</th>\n      <th>SaturatedFatContent</th>\n      <th>CholesterolContent</th>\n      <th>SodiumContent</th>\n      <th>CarbohydrateContent</th>\n      <th>FiberContent</th>\n      <th>SugarContent</th>\n      <th>ProteinContent</th>\n      <th>RecipeInstructions</th>\n    </tr>\n  </thead>\n  <tbody>\n    <tr>\n      <th>3</th>\n      <td>41</td>\n      <td>Carina's Tofu-Vegetable Kebabs</td>\n      <td>PT20M</td>\n      <td>PT24H</td>\n      <td>PT24H20M</td>\n      <td>c(\"extra firm tofu\", \"eggplant\", \"zucchini\", \"...</td>\n      <td>536.1</td>\n      <td>24.0</td>\n      <td>3.8</td>\n      <td>0.0</td>\n      <td>1558.6</td>\n      <td>64.2</td>\n      <td>17.3</td>\n      <td>32.1</td>\n      <td>29.3</td>\n      <td>c(\"Drain the tofu, carefully squeezing out exc...</td>\n    </tr>\n    <tr>\n      <th>7</th>\n      <td>45</td>\n      <td>Buttermilk Pie With Gingersnap Crumb Crust</td>\n      <td>PT50M</td>\n      <td>PT30M</td>\n      <td>PT1H20M</td>\n      <td>c(\"sugar\", \"margarine\", \"egg\", \"flour\", \"salt\"...</td>\n      <td>228.0</td>\n      <td>7.1</td>\n      <td>1.7</td>\n      <td>24.5</td>\n      <td>281.8</td>\n      <td>37.5</td>\n      <td>0.5</td>\n      <td>24.7</td>\n      <td>4.2</td>\n      <td>c(\"Preheat oven to 350°F.\", \"Make pie crust, u...</td>\n    </tr>\n    <tr>\n      <th>12</th>\n      <td>50</td>\n      <td>Biscotti Di Prato</td>\n      <td>PT50M</td>\n      <td>PT20M</td>\n      <td>PT1H10M</td>\n      <td>c(\"flour\", \"sugar\", \"baking powder\", \"salt\", \"...</td>\n      <td>89.4</td>\n      <td>2.6</td>\n      <td>0.3</td>\n      <td>16.6</td>\n      <td>23.5</td>\n      <td>14.5</td>\n      <td>0.8</td>\n      <td>7.3</td>\n      <td>2.3</td>\n      <td>c(\"EGG WASH 1 Egg, large 1 tsp Water In the bo...</td>\n    </tr>\n    <tr>\n      <th>18</th>\n      <td>56</td>\n      <td>Buttermilk Pie</td>\n      <td>PT1H</td>\n      <td>PT20M</td>\n      <td>PT1H20M</td>\n      <td>c(\"butter\", \"margarine\", \"sugar\", \"flour\", \"eg...</td>\n      <td>395.9</td>\n      <td>19.1</td>\n      <td>9.8</td>\n      <td>101.5</td>\n      <td>269.8</td>\n      <td>52.2</td>\n      <td>0.7</td>\n      <td>39.9</td>\n      <td>5.0</td>\n      <td>c(\"Preheat oven to 400°F.\", \"Beat the butter a...</td>\n    </tr>\n    <tr>\n      <th>22</th>\n      <td>60</td>\n      <td>Blueberry Dessert</td>\n      <td>NaN</td>\n      <td>PT35M</td>\n      <td>PT35M</td>\n      <td>c(\"Bisquick baking mix\", \"sugar\", \"butter\", \"m...</td>\n      <td>381.1</td>\n      <td>17.3</td>\n      <td>8.8</td>\n      <td>62.1</td>\n      <td>437.6</td>\n      <td>54.5</td>\n      <td>1.6</td>\n      <td>36.9</td>\n      <td>3.9</td>\n      <td>c(\"Heat oven to 400 degrees.\", \"Mix 2 cups bak...</td>\n    </tr>\n    <tr>\n      <th>...</th>\n      <td>...</td>\n      <td>...</td>\n      <td>...</td>\n      <td>...</td>\n      <td>...</td>\n      <td>...</td>\n      <td>...</td>\n      <td>...</td>\n      <td>...</td>\n      <td>...</td>\n      <td>...</td>\n      <td>...</td>\n      <td>...</td>\n      <td>...</td>\n      <td>...</td>\n      <td>...</td>\n    </tr>\n    <tr>\n      <th>522484</th>\n      <td>541351</td>\n      <td>Spinach &amp; Mushroom Quiche with Boursin</td>\n      <td>PT1H</td>\n      <td>PT20M</td>\n      <td>PT1H20M</td>\n      <td>c(\"butter\", \"onion\", \"sweet pepper\", \"carrots\"...</td>\n      <td>197.6</td>\n      <td>11.0</td>\n      <td>4.0</td>\n      <td>82.2</td>\n      <td>283.3</td>\n      <td>19.0</td>\n      <td>2.0</td>\n      <td>3.0</td>\n      <td>6.1</td>\n      <td>c(\"Bake pie crust(s) according to package inst...</td>\n    </tr>\n    <tr>\n      <th>522490</th>\n      <td>541357</td>\n      <td>Chocolate Rum Snowballs</td>\n      <td>PT8M</td>\n      <td>PT15M</td>\n      <td>PT23M</td>\n      <td>c(\"rolled oats\", \"sweetened flaked coconut\", \"...</td>\n      <td>127.8</td>\n      <td>6.2</td>\n      <td>4.1</td>\n      <td>14.9</td>\n      <td>57.9</td>\n      <td>15.8</td>\n      <td>1.3</td>\n      <td>9.4</td>\n      <td>1.8</td>\n      <td>c(\"In a large mixing bowl, combine oats, 1 cup...</td>\n    </tr>\n    <tr>\n      <th>522500</th>\n      <td>541367</td>\n      <td>Thick Peanut Pancakes</td>\n      <td>PT10M</td>\n      <td>PT45M</td>\n      <td>PT55M</td>\n      <td>c(\"plain flour\", \"baking powder\", \"baking soda...</td>\n      <td>712.9</td>\n      <td>25.4</td>\n      <td>8.6</td>\n      <td>121.4</td>\n      <td>503.9</td>\n      <td>100.3</td>\n      <td>6.0</td>\n      <td>20.2</td>\n      <td>23.2</td>\n      <td>c(\"Add rock sugar to milk.\", \"Steam milk at lo...</td>\n    </tr>\n    <tr>\n      <th>522510</th>\n      <td>541377</td>\n      <td>Slow-Cooker Classic Coffee Cake</td>\n      <td>PT3H</td>\n      <td>PT20M</td>\n      <td>PT3H20M</td>\n      <td>c(\"all-purpose flour\", \"brown sugar\", \"butter\"...</td>\n      <td>358.9</td>\n      <td>19.8</td>\n      <td>10.5</td>\n      <td>103.1</td>\n      <td>323.4</td>\n      <td>41.5</td>\n      <td>0.8</td>\n      <td>24.8</td>\n      <td>4.8</td>\n      <td>c(\"Line bottom and sides of 5-quart oval slow ...</td>\n    </tr>\n    <tr>\n      <th>522512</th>\n      <td>541379</td>\n      <td>Meg's Fresh Ginger Gingerbread</td>\n      <td>PT35M</td>\n      <td>PT1H</td>\n      <td>PT1H35M</td>\n      <td>c(\"fresh ginger\", \"unsalted butter\", \"dark bro...</td>\n      <td>316.6</td>\n      <td>12.5</td>\n      <td>7.6</td>\n      <td>54.4</td>\n      <td>278.2</td>\n      <td>48.5</td>\n      <td>0.8</td>\n      <td>22.8</td>\n      <td>3.9</td>\n      <td>c(\"Preheat oven to 350&amp;deg;F Grease an 8x8 cak...</td>\n    </tr>\n  </tbody>\n</table>\n<p>83668 rows × 16 columns</p>\n</div>"
     },
     "execution_count": 25,
     "metadata": {},
     "output_type": "execute_result"
    }
   ],
   "source": [
    "extracted_data[extracted_data['RecipeIngredientParts'].str.contains(\"egg\",regex=False)]"
   ],
   "metadata": {
    "collapsed": false,
    "ExecuteTime": {
     "end_time": "2024-05-19T17:20:49.043690Z",
     "start_time": "2024-05-19T17:20:48.930163Z"
    }
   },
   "id": "b70155867b60c3e2",
   "execution_count": 25
  },
  {
   "cell_type": "code",
   "outputs": [
    {
     "data": {
      "text/plain": "        RecipeId                                        Name CookTime  \\\n0             38           Low-Fat Berry Blue Frozen Dessert    PT24H   \n3             41              Carina's Tofu-Vegetable Kebabs    PT20M   \n4             42                                Cabbage Soup    PT30M   \n7             45  Buttermilk Pie With Gingersnap Crumb Crust    PT50M   \n8             46                     A Jad - Cucumber Pickle      NaN   \n...          ...                                         ...      ...   \n522508    541375              Amazing Ground Beef Stroganoff    PT20M   \n522509    541376               Spanish Coffee with Tia Maria      NaN   \n522510    541377             Slow-Cooker Classic Coffee Cake     PT3H   \n522512    541379              Meg's Fresh Ginger Gingerbread    PT35M   \n522515    541382    Quick & Easy Asian Cucumber Salmon Rolls      NaN   \n\n       PrepTime TotalTime                              RecipeIngredientParts  \\\n0         PT45M  PT24H45M  c(\"blueberries\", \"granulated sugar\", \"vanilla ...   \n3         PT24H  PT24H20M  c(\"extra firm tofu\", \"eggplant\", \"zucchini\", \"...   \n4         PT20M     PT50M  c(\"plain tomato juice\", \"cabbage\", \"onion\", \"c...   \n7         PT30M   PT1H20M  c(\"sugar\", \"margarine\", \"egg\", \"flour\", \"salt\"...   \n8         PT25M     PT25M                          c(\"rice vinegar\", \"haeo\")   \n...         ...       ...                                                ...   \n522508    PT30M     PT50M  c(\"hamburger\", \"onion\", \"celery\", \"water chest...   \n522509    PT10M     PT10M  c(\"lemon wedge\", \"granulated sugar\", \"cognac\",...   \n522510    PT20M   PT3H20M  c(\"all-purpose flour\", \"brown sugar\", \"butter\"...   \n522512     PT1H   PT1H35M  c(\"fresh ginger\", \"unsalted butter\", \"dark bro...   \n522515    PT15M     PT15M  c(\"wasabi paste\", \"dill\", \"English cucumber\", ...   \n\n        Calories  FatContent  SaturatedFatContent  CholesterolContent  \\\n0          170.9         2.5                  1.3                 8.0   \n3          536.1        24.0                  3.8                 0.0   \n4          103.6         0.4                  0.1                 0.0   \n7          228.0         7.1                  1.7                24.5   \n8            4.3         0.0                  0.0                 0.0   \n...          ...         ...                  ...                 ...   \n522508     422.3        28.6                 12.6               106.0   \n522509      84.3         2.1                  1.2                 6.8   \n522510     358.9        19.8                 10.5               103.1   \n522512     316.6        12.5                  7.6                54.4   \n522515      16.1         0.6                  0.1                 2.9   \n\n        SodiumContent  CarbohydrateContent  FiberContent  SugarContent  \\\n0                29.8                 37.1           3.6          30.2   \n3              1558.6                 64.2          17.3          32.1   \n4               959.3                 25.1           4.8          17.7   \n7               281.8                 37.5           0.5          24.7   \n8                 0.7                  1.1           0.2           0.2   \n...               ...                  ...           ...           ...   \n522508          634.7                 14.1           1.4           5.7   \n522509           15.7                 16.6           0.4          15.4   \n522510          323.4                 41.5           0.8          24.8   \n522512          278.2                 48.5           0.8          22.8   \n522515          100.5                  0.3           0.0           0.1   \n\n        ProteinContent                                 RecipeInstructions  \n0                  3.2  c(\"Toss 2 cups berries with sugar.\", \"Let stan...  \n3                 29.3  c(\"Drain the tofu, carefully squeezing out exc...  \n4                  4.3  c(\"Mix everything together and bring to a boil...  \n7                  4.2  c(\"Preheat oven to 350°F.\", \"Make pie crust, u...  \n8                  0.1  c(\"Slice the cucumber in four lengthwise, then...  \n...                ...                                                ...  \n522508            27.3  c(\"Saute meat in a medium skillet until it los...  \n522509             0.6  c(\"Cut a small slit in the lemon wedge and sli...  \n522510             4.8  c(\"Line bottom and sides of 5-quart oval slow ...  \n522512             3.9  c(\"Preheat oven to 350&deg;F Grease an 8x8 cak...  \n522515             2.4  c(\"In a small bowl, combine mayo and wasabi pa...  \n\n[326317 rows x 16 columns]",
      "text/html": "<div>\n<style scoped>\n    .dataframe tbody tr th:only-of-type {\n        vertical-align: middle;\n    }\n\n    .dataframe tbody tr th {\n        vertical-align: top;\n    }\n\n    .dataframe thead th {\n        text-align: right;\n    }\n</style>\n<table border=\"1\" class=\"dataframe\">\n  <thead>\n    <tr style=\"text-align: right;\">\n      <th></th>\n      <th>RecipeId</th>\n      <th>Name</th>\n      <th>CookTime</th>\n      <th>PrepTime</th>\n      <th>TotalTime</th>\n      <th>RecipeIngredientParts</th>\n      <th>Calories</th>\n      <th>FatContent</th>\n      <th>SaturatedFatContent</th>\n      <th>CholesterolContent</th>\n      <th>SodiumContent</th>\n      <th>CarbohydrateContent</th>\n      <th>FiberContent</th>\n      <th>SugarContent</th>\n      <th>ProteinContent</th>\n      <th>RecipeInstructions</th>\n    </tr>\n  </thead>\n  <tbody>\n    <tr>\n      <th>0</th>\n      <td>38</td>\n      <td>Low-Fat Berry Blue Frozen Dessert</td>\n      <td>PT24H</td>\n      <td>PT45M</td>\n      <td>PT24H45M</td>\n      <td>c(\"blueberries\", \"granulated sugar\", \"vanilla ...</td>\n      <td>170.9</td>\n      <td>2.5</td>\n      <td>1.3</td>\n      <td>8.0</td>\n      <td>29.8</td>\n      <td>37.1</td>\n      <td>3.6</td>\n      <td>30.2</td>\n      <td>3.2</td>\n      <td>c(\"Toss 2 cups berries with sugar.\", \"Let stan...</td>\n    </tr>\n    <tr>\n      <th>3</th>\n      <td>41</td>\n      <td>Carina's Tofu-Vegetable Kebabs</td>\n      <td>PT20M</td>\n      <td>PT24H</td>\n      <td>PT24H20M</td>\n      <td>c(\"extra firm tofu\", \"eggplant\", \"zucchini\", \"...</td>\n      <td>536.1</td>\n      <td>24.0</td>\n      <td>3.8</td>\n      <td>0.0</td>\n      <td>1558.6</td>\n      <td>64.2</td>\n      <td>17.3</td>\n      <td>32.1</td>\n      <td>29.3</td>\n      <td>c(\"Drain the tofu, carefully squeezing out exc...</td>\n    </tr>\n    <tr>\n      <th>4</th>\n      <td>42</td>\n      <td>Cabbage Soup</td>\n      <td>PT30M</td>\n      <td>PT20M</td>\n      <td>PT50M</td>\n      <td>c(\"plain tomato juice\", \"cabbage\", \"onion\", \"c...</td>\n      <td>103.6</td>\n      <td>0.4</td>\n      <td>0.1</td>\n      <td>0.0</td>\n      <td>959.3</td>\n      <td>25.1</td>\n      <td>4.8</td>\n      <td>17.7</td>\n      <td>4.3</td>\n      <td>c(\"Mix everything together and bring to a boil...</td>\n    </tr>\n    <tr>\n      <th>7</th>\n      <td>45</td>\n      <td>Buttermilk Pie With Gingersnap Crumb Crust</td>\n      <td>PT50M</td>\n      <td>PT30M</td>\n      <td>PT1H20M</td>\n      <td>c(\"sugar\", \"margarine\", \"egg\", \"flour\", \"salt\"...</td>\n      <td>228.0</td>\n      <td>7.1</td>\n      <td>1.7</td>\n      <td>24.5</td>\n      <td>281.8</td>\n      <td>37.5</td>\n      <td>0.5</td>\n      <td>24.7</td>\n      <td>4.2</td>\n      <td>c(\"Preheat oven to 350°F.\", \"Make pie crust, u...</td>\n    </tr>\n    <tr>\n      <th>8</th>\n      <td>46</td>\n      <td>A Jad - Cucumber Pickle</td>\n      <td>NaN</td>\n      <td>PT25M</td>\n      <td>PT25M</td>\n      <td>c(\"rice vinegar\", \"haeo\")</td>\n      <td>4.3</td>\n      <td>0.0</td>\n      <td>0.0</td>\n      <td>0.0</td>\n      <td>0.7</td>\n      <td>1.1</td>\n      <td>0.2</td>\n      <td>0.2</td>\n      <td>0.1</td>\n      <td>c(\"Slice the cucumber in four lengthwise, then...</td>\n    </tr>\n    <tr>\n      <th>...</th>\n      <td>...</td>\n      <td>...</td>\n      <td>...</td>\n      <td>...</td>\n      <td>...</td>\n      <td>...</td>\n      <td>...</td>\n      <td>...</td>\n      <td>...</td>\n      <td>...</td>\n      <td>...</td>\n      <td>...</td>\n      <td>...</td>\n      <td>...</td>\n      <td>...</td>\n      <td>...</td>\n    </tr>\n    <tr>\n      <th>522508</th>\n      <td>541375</td>\n      <td>Amazing Ground Beef Stroganoff</td>\n      <td>PT20M</td>\n      <td>PT30M</td>\n      <td>PT50M</td>\n      <td>c(\"hamburger\", \"onion\", \"celery\", \"water chest...</td>\n      <td>422.3</td>\n      <td>28.6</td>\n      <td>12.6</td>\n      <td>106.0</td>\n      <td>634.7</td>\n      <td>14.1</td>\n      <td>1.4</td>\n      <td>5.7</td>\n      <td>27.3</td>\n      <td>c(\"Saute meat in a medium skillet until it los...</td>\n    </tr>\n    <tr>\n      <th>522509</th>\n      <td>541376</td>\n      <td>Spanish Coffee with Tia Maria</td>\n      <td>NaN</td>\n      <td>PT10M</td>\n      <td>PT10M</td>\n      <td>c(\"lemon wedge\", \"granulated sugar\", \"cognac\",...</td>\n      <td>84.3</td>\n      <td>2.1</td>\n      <td>1.2</td>\n      <td>6.8</td>\n      <td>15.7</td>\n      <td>16.6</td>\n      <td>0.4</td>\n      <td>15.4</td>\n      <td>0.6</td>\n      <td>c(\"Cut a small slit in the lemon wedge and sli...</td>\n    </tr>\n    <tr>\n      <th>522510</th>\n      <td>541377</td>\n      <td>Slow-Cooker Classic Coffee Cake</td>\n      <td>PT3H</td>\n      <td>PT20M</td>\n      <td>PT3H20M</td>\n      <td>c(\"all-purpose flour\", \"brown sugar\", \"butter\"...</td>\n      <td>358.9</td>\n      <td>19.8</td>\n      <td>10.5</td>\n      <td>103.1</td>\n      <td>323.4</td>\n      <td>41.5</td>\n      <td>0.8</td>\n      <td>24.8</td>\n      <td>4.8</td>\n      <td>c(\"Line bottom and sides of 5-quart oval slow ...</td>\n    </tr>\n    <tr>\n      <th>522512</th>\n      <td>541379</td>\n      <td>Meg's Fresh Ginger Gingerbread</td>\n      <td>PT35M</td>\n      <td>PT1H</td>\n      <td>PT1H35M</td>\n      <td>c(\"fresh ginger\", \"unsalted butter\", \"dark bro...</td>\n      <td>316.6</td>\n      <td>12.5</td>\n      <td>7.6</td>\n      <td>54.4</td>\n      <td>278.2</td>\n      <td>48.5</td>\n      <td>0.8</td>\n      <td>22.8</td>\n      <td>3.9</td>\n      <td>c(\"Preheat oven to 350&amp;deg;F Grease an 8x8 cak...</td>\n    </tr>\n    <tr>\n      <th>522515</th>\n      <td>541382</td>\n      <td>Quick &amp; Easy Asian Cucumber Salmon Rolls</td>\n      <td>NaN</td>\n      <td>PT15M</td>\n      <td>PT15M</td>\n      <td>c(\"wasabi paste\", \"dill\", \"English cucumber\", ...</td>\n      <td>16.1</td>\n      <td>0.6</td>\n      <td>0.1</td>\n      <td>2.9</td>\n      <td>100.5</td>\n      <td>0.3</td>\n      <td>0.0</td>\n      <td>0.1</td>\n      <td>2.4</td>\n      <td>c(\"In a small bowl, combine mayo and wasabi pa...</td>\n    </tr>\n  </tbody>\n</table>\n<p>326317 rows × 16 columns</p>\n</div>"
     },
     "execution_count": 29,
     "metadata": {},
     "output_type": "execute_result"
    }
   ],
   "source": [
    "extracted_data[~extracted_data['RecipeIngredientParts'].str.contains(\"chicken\",regex=False)]"
   ],
   "metadata": {
    "collapsed": false,
    "ExecuteTime": {
     "end_time": "2024-05-19T17:26:41.055287Z",
     "start_time": "2024-05-19T17:26:40.863391Z"
    }
   },
   "id": "f830d864e3214748",
   "execution_count": 29
  },
  {
   "cell_type": "markdown",
   "source": [
    "# Creating Function"
   ],
   "metadata": {
    "collapsed": false
   },
   "id": "31318f7ecb691842"
  },
  {
   "cell_type": "code",
   "outputs": [],
   "source": [
    "def scaling(dataframe):\n",
    "    scaler=StandardScaler()\n",
    "    prep_data=scaler.fit_transform(dataframe.iloc[:,6:15].to_numpy())\n",
    "    return prep_data,scaler\n",
    "\n",
    "def nn_predictor(prep_data):\n",
    "    neigh = NearestNeighbors(metric='cosine',algorithm='brute')\n",
    "    neigh.fit(prep_data)\n",
    "    return neigh\n",
    "\n",
    "def build_pipeline(neigh,scaler,params):\n",
    "    transformer = FunctionTransformer(neigh.kneighbors,kw_args=params)\n",
    "    pipeline=Pipeline([('std_scaler',scaler),('NN',transformer)])\n",
    "    return pipeline\n",
    "\n",
    "def extract_data(dataframe,ingredient_filter,max_nutritional_values):\n",
    "    extracted_data=dataframe.copy()\n",
    "    for column,maximum in zip(extracted_data.columns[6:15],max_nutritional_values):\n",
    "        extracted_data=extracted_data[extracted_data[column]<maximum]\n",
    "    if ingredient_filter!=None:\n",
    "        for ingredient in ingredient_filter:\n",
    "            extracted_data=extracted_data[extracted_data['RecipeIngredientParts'].str.contains(ingredient,regex=False)] \n",
    "            \n",
    "    return extracted_data\n",
    "\n",
    "def apply_pipeline(pipeline,_input,extracted_data):\n",
    "    return extracted_data.iloc[pipeline.transform(_input)[0]]\n",
    "\n",
    "def recommend(dataframe,_input,max_nutritional_values,ingredient_filter=None,params={'return_distance':False}):\n",
    "    extracted_data=extract_data(dataframe,ingredient_filter,max_nutritional_values)\n",
    "    prep_data,scaler=scaling(extracted_data)\n",
    "    neigh=nn_predictor(prep_data)\n",
    "    pipeline=build_pipeline(neigh,scaler,params)\n",
    "    return apply_pipeline(pipeline,_input,extracted_data)"
   ],
   "metadata": {
    "collapsed": false,
    "ExecuteTime": {
     "end_time": "2024-05-19T17:52:59.946794Z",
     "start_time": "2024-05-19T17:52:59.943250Z"
    }
   },
   "id": "ff06ebd5ac49a045",
   "execution_count": 31
  },
  {
   "cell_type": "code",
   "outputs": [
    {
     "data": {
      "text/plain": "        RecipeId                                          Name CookTime  \\\n0             38             Low-Fat Berry Blue Frozen Dessert    PT24H   \n463750    480841                                   Mango Salsa     PT5M   \n485171    503065  Glazed Pineapple With Cinnamon Creme Fraiche    PT10M   \n158110    165636                             Lemon Float Punch   PT120H   \n28595      32172                            L & B's Concoction     PT5M   \n\n       PrepTime TotalTime                              RecipeIngredientParts  \\\n0         PT45M  PT24H45M  c(\"blueberries\", \"granulated sugar\", \"vanilla ...   \n463750    PT10M     PT15M  c(\"fresh mango\", \"tomatoes\", \"sweet onion\", \"f...   \n485171    PT10M     PT20M  c(\"lime\", \"honey\", \"ground cinnamon\", \"ground ...   \n158110     PT5M  PT120H5M  c(\"lemons\", \"sugar\", \"water\", \"ginger ale\", \"l...   \n28595      PT5M     PT10M  c(\"strawberry\", \"strawberry\", \"milk\", \"blueber...   \n\n        Calories  FatContent  SaturatedFatContent  CholesterolContent  \\\n0          170.9         2.5                  1.3                 8.0   \n463750     152.5         0.8                  0.2                 0.0   \n485171     172.5         2.2                  1.2                 5.0   \n158110     158.4         1.7                  0.9                 0.4   \n28595      167.3         2.0                  1.0                 5.7   \n\n        SodiumContent  CarbohydrateContent  FiberContent  SugarContent  \\\n0                29.8                 37.1           3.6          30.2   \n463750            6.6                 37.9           3.8          34.0   \n485171           19.8                 41.5           3.8          32.4   \n158110           38.6                 40.1           4.0          31.1   \n28595            26.2                 38.4           3.0          29.9   \n\n        ProteinContent                                 RecipeInstructions  \n0                  3.2  c(\"Toss 2 cups berries with sugar.\", \"Let stan...  \n463750             2.2  c(\"In a medium-sized bowl, whisk together vine...  \n485171             1.4  c(\"Mix the lime juice and half the lime zest w...  \n158110             1.9  c(\"Combine lemon juice and sugar; stir to diss...  \n28595              3.1  c(\"Blend the frozen strawberries, ice cubes, y...  ",
      "text/html": "<div>\n<style scoped>\n    .dataframe tbody tr th:only-of-type {\n        vertical-align: middle;\n    }\n\n    .dataframe tbody tr th {\n        vertical-align: top;\n    }\n\n    .dataframe thead th {\n        text-align: right;\n    }\n</style>\n<table border=\"1\" class=\"dataframe\">\n  <thead>\n    <tr style=\"text-align: right;\">\n      <th></th>\n      <th>RecipeId</th>\n      <th>Name</th>\n      <th>CookTime</th>\n      <th>PrepTime</th>\n      <th>TotalTime</th>\n      <th>RecipeIngredientParts</th>\n      <th>Calories</th>\n      <th>FatContent</th>\n      <th>SaturatedFatContent</th>\n      <th>CholesterolContent</th>\n      <th>SodiumContent</th>\n      <th>CarbohydrateContent</th>\n      <th>FiberContent</th>\n      <th>SugarContent</th>\n      <th>ProteinContent</th>\n      <th>RecipeInstructions</th>\n    </tr>\n  </thead>\n  <tbody>\n    <tr>\n      <th>0</th>\n      <td>38</td>\n      <td>Low-Fat Berry Blue Frozen Dessert</td>\n      <td>PT24H</td>\n      <td>PT45M</td>\n      <td>PT24H45M</td>\n      <td>c(\"blueberries\", \"granulated sugar\", \"vanilla ...</td>\n      <td>170.9</td>\n      <td>2.5</td>\n      <td>1.3</td>\n      <td>8.0</td>\n      <td>29.8</td>\n      <td>37.1</td>\n      <td>3.6</td>\n      <td>30.2</td>\n      <td>3.2</td>\n      <td>c(\"Toss 2 cups berries with sugar.\", \"Let stan...</td>\n    </tr>\n    <tr>\n      <th>463750</th>\n      <td>480841</td>\n      <td>Mango Salsa</td>\n      <td>PT5M</td>\n      <td>PT10M</td>\n      <td>PT15M</td>\n      <td>c(\"fresh mango\", \"tomatoes\", \"sweet onion\", \"f...</td>\n      <td>152.5</td>\n      <td>0.8</td>\n      <td>0.2</td>\n      <td>0.0</td>\n      <td>6.6</td>\n      <td>37.9</td>\n      <td>3.8</td>\n      <td>34.0</td>\n      <td>2.2</td>\n      <td>c(\"In a medium-sized bowl, whisk together vine...</td>\n    </tr>\n    <tr>\n      <th>485171</th>\n      <td>503065</td>\n      <td>Glazed Pineapple With Cinnamon Creme Fraiche</td>\n      <td>PT10M</td>\n      <td>PT10M</td>\n      <td>PT20M</td>\n      <td>c(\"lime\", \"honey\", \"ground cinnamon\", \"ground ...</td>\n      <td>172.5</td>\n      <td>2.2</td>\n      <td>1.2</td>\n      <td>5.0</td>\n      <td>19.8</td>\n      <td>41.5</td>\n      <td>3.8</td>\n      <td>32.4</td>\n      <td>1.4</td>\n      <td>c(\"Mix the lime juice and half the lime zest w...</td>\n    </tr>\n    <tr>\n      <th>158110</th>\n      <td>165636</td>\n      <td>Lemon Float Punch</td>\n      <td>PT120H</td>\n      <td>PT5M</td>\n      <td>PT120H5M</td>\n      <td>c(\"lemons\", \"sugar\", \"water\", \"ginger ale\", \"l...</td>\n      <td>158.4</td>\n      <td>1.7</td>\n      <td>0.9</td>\n      <td>0.4</td>\n      <td>38.6</td>\n      <td>40.1</td>\n      <td>4.0</td>\n      <td>31.1</td>\n      <td>1.9</td>\n      <td>c(\"Combine lemon juice and sugar; stir to diss...</td>\n    </tr>\n    <tr>\n      <th>28595</th>\n      <td>32172</td>\n      <td>L &amp; B's Concoction</td>\n      <td>PT5M</td>\n      <td>PT5M</td>\n      <td>PT10M</td>\n      <td>c(\"strawberry\", \"strawberry\", \"milk\", \"blueber...</td>\n      <td>167.3</td>\n      <td>2.0</td>\n      <td>1.0</td>\n      <td>5.7</td>\n      <td>26.2</td>\n      <td>38.4</td>\n      <td>3.0</td>\n      <td>29.9</td>\n      <td>3.1</td>\n      <td>c(\"Blend the frozen strawberries, ice cubes, y...</td>\n    </tr>\n  </tbody>\n</table>\n</div>"
     },
     "execution_count": 32,
     "metadata": {},
     "output_type": "execute_result"
    }
   ],
   "source": [
    "test_input=extracted_data.iloc[0:1,6:15].to_numpy()\n",
    "recommend(dataset,test_input,max_list)"
   ],
   "metadata": {
    "collapsed": false,
    "ExecuteTime": {
     "end_time": "2024-05-19T17:53:19.754715Z",
     "start_time": "2024-05-19T17:53:19.020665Z"
    }
   },
   "id": "8dedefd895f71201",
   "execution_count": 32
  },
  {
   "cell_type": "code",
   "outputs": [],
   "source": [
    "dataset.to_csv('Data/dataset.csv',compression='gzip',index=False)"
   ],
   "metadata": {
    "collapsed": false,
    "ExecuteTime": {
     "end_time": "2024-05-19T17:57:40.253826Z",
     "start_time": "2024-05-19T17:57:02.232663Z"
    }
   },
   "id": "4e925e1f80c0d254",
   "execution_count": 33
  },
  {
   "cell_type": "code",
   "outputs": [],
   "source": [],
   "metadata": {
    "collapsed": false
   },
   "id": "7299fa14fc079cd2"
  }
 ],
 "metadata": {
  "kernelspec": {
   "display_name": "Python 3",
   "language": "python",
   "name": "python3"
  },
  "language_info": {
   "codemirror_mode": {
    "name": "ipython",
    "version": 2
   },
   "file_extension": ".py",
   "mimetype": "text/x-python",
   "name": "python",
   "nbconvert_exporter": "python",
   "pygments_lexer": "ipython2",
   "version": "2.7.6"
  }
 },
 "nbformat": 4,
 "nbformat_minor": 5
}
